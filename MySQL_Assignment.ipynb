{
 "cells": [
  {
   "cell_type": "markdown",
   "id": "b7e5f9ea-bb28-44d3-8fd3-7ddabe0b25f5",
   "metadata": {},
   "source": [
    "## Problem_1: What is a database? Differentiate between SQL and NoSQL databases."
   ]
  },
  {
   "cell_type": "markdown",
   "id": "5ed10be6-4bd6-4449-b6cc-c659a3446a0e",
   "metadata": {},
   "source": [
    "  - A database is a structured collection of data organized in a way that allows efficient storage, retrieval, and manipulation of information\n",
    "  - They provide a means to store, update, and retrieve data in a reliable, secure, and scalable manner.\n",
    "\n",
    "### SQL databases: \n",
    "  - SQL databases are also known as relational databases, and they are based on the relational model.\n",
    "  - They store data in tables, where each table represents an entity, and each row in the table represents a record (instance) of that entity.\n",
    "  - EG : MySQL\n",
    "\n",
    "### NoSQL databases:\n",
    "  - NoSQL databases, as the name suggests, do not use the traditional relational model for data storage.\n",
    "  - They are designed to handle large volumes of unstructured or semi-structured data, offering more flexibility and scalability compared to SQL databases. \n",
    "  - NoSQL databases can be classified into different types, such as key-value stores, document stores etc.\n",
    "  - EG: MongoDB"
   ]
  },
  {
   "cell_type": "markdown",
   "id": "d40f3cbe-1005-482a-98c3-9857bb53f5e5",
   "metadata": {},
   "source": [
    "## Problem_2 :What is DDL? Explain why CREATE, DROP, ALTER, and TRUNCATE are used with an example."
   ]
  },
  {
   "cell_type": "markdown",
   "id": "37b74a30-d219-41f0-bf5d-7c4c77098bdb",
   "metadata": {},
   "source": [
    "### DDL stands for Data Definition Language, and it is a subset of SQL (Structured Query Language) used to define, manage, and manipulate the structure of a database and its objects.\n",
    "\n",
    "### CREATE:\n",
    "  - The CREATE statement is used to create new database objects, such as tables, views, indexes, and procedures."
   ]
  },
  {
   "cell_type": "raw",
   "id": "ef53ac65-77d2-4df1-841b-d7b117bb6059",
   "metadata": {},
   "source": [
    "EG: CREATE TABLE employees (\n",
    "      id INT PRIMARY KEY,\n",
    "      name VARCHAR(50),\n",
    "      age INT,\n",
    "      department VARCHAR(100)\n",
    "     );\n",
    "\n",
    "\"In this example, we create a table named \"employees\" with four columns: \"id,\" \"name,\" \"age,\" and \"department.\" The \"id\" column is designated as the primary key, which ensures each row in the table has a unique identifier.\""
   ]
  },
  {
   "cell_type": "markdown",
   "id": "ea18c2a9-da5e-46d5-abbf-effbba038015",
   "metadata": {},
   "source": [
    "### DROP: \n",
    "   - The DROP statement is used to remove existing database objects from the database permanently. It allows you to delete tables, views, indexes, or other objects. \n",
    "   - EG: DROP TABLE employees;"
   ]
  },
  {
   "cell_type": "markdown",
   "id": "a756fc12-850a-465e-b16a-409836cf605f",
   "metadata": {},
   "source": [
    "### ALTER: \n",
    "   - The ALTER statement is used to modify the structure of an existing database object, such as adding or removing columns from a table, changing column data types, or renaming objects.\n",
    "   - EG: \n",
    "   \n",
    "    ALTER TABLE employees\n",
    "    ADD email VARCHAR(100);\n",
    "\n",
    "### TRUNCATE: \n",
    "   - The TRUNCATE statement is used to remove all the data from a table quickly. Unlike the DROP statement, TRUNCATE keeps the table structure intact but deletes all the rows from the table.\n",
    "   - EG: TRUNCATE TABLE employees;\n",
    "   \n",
    "This command will delete all the rows from the \"employees\" table, but the table structure will remain.\n",
    "    "
   ]
  },
  {
   "cell_type": "markdown",
   "id": "c6c685eb-7379-431d-bedf-c1f321fe4c67",
   "metadata": {},
   "source": [
    "### Problem_3 :What is DML? Explain INSERT, UPDATE, and DELETE with an example."
   ]
  },
  {
   "cell_type": "markdown",
   "id": "b839224a-d052-4bc9-8c65-6c00224b0236",
   "metadata": {},
   "source": [
    "  - DML stands for Data Manipulation Language, and it is a subset of SQL (Structured Query Language) used to manipulate and work with the data stored in the database.\n",
    "  - DML commands are used to perform operations like inserting new data, updating existing data, and deleting unwanted data from the database.\n",
    "  \n",
    "### INSERT: \n",
    "  - The INSERT statement is used to add new rows (records) into a table. It allows you to specify the values for each column or a subset of columns for the new row to be inserted. \n",
    "  - EG:\n",
    "                \n",
    "        INSERT INTO employees (id, name, age, department)\n",
    "        VALUES (1, 'John Doe', 30, 'Engineering');\n",
    "        \n",
    "### UPDATE:\n",
    "  - The UPDATE statement is used to modify existing records in a table. It allows you to change the values of one or more columns in one or multiple rows based on specified conditions. \n",
    "  - EG:\n",
    "  \n",
    "        UPDATE employees\n",
    "        SET department = 'Human Resources'\n",
    "        WHERE id = 1;\n",
    "\n",
    "### DELETE:\n",
    "  - The DELETE statement is used to remove one or more rows from a table based on specified conditions. It allows you to selectively remove data from a table.\n",
    "  - EG :\n",
    "  \n",
    "         DELETE FROM employees\n",
    "         WHERE id = 1;\n",
    "\n"
   ]
  },
  {
   "cell_type": "markdown",
   "id": "7676ca3a-e39a-4f51-b5d4-1e50aca80e24",
   "metadata": {},
   "source": [
    "## Problem_4 : What is DQL? Explain SELECT with an example."
   ]
  },
  {
   "cell_type": "markdown",
   "id": "40ea1fe1-2245-458d-93a2-75e0721a3bb8",
   "metadata": {},
   "source": [
    "  - DQL stands for Data Query Language, and it is a subset of SQL (Structured Query Language) used to retrieve data from a database.\n",
    "  - DQL commands primarily consist of the SELECT statement, which allows you to query the database and retrieve specific data from one or more tables.\n",
    "  - I'm Taking an example to explain the SELECT\n",
    "  \n",
    "### Consider a table named \"Employee\" with following Attributes:\n",
    "  - id\n",
    "  - name \n",
    "  - age \n",
    "  - department\n",
    "\n",
    "### If i execute this :\n",
    "  - SELECT * FROM Employee;  -->\n",
    "This will fetch all the rows and columns from the Table \"Employee\"\n",
    "\n",
    "### If i execute query with specific column:\n",
    "  - SELECT id,name FROM Employee;  -->\n",
    "This will only retrieve \"id\" and \"name\" columns from Employee\n",
    "  "
   ]
  },
  {
   "cell_type": "markdown",
   "id": "49ec215b-554f-4353-9924-609fc8eada39",
   "metadata": {
    "tags": []
   },
   "source": [
    "## Problem_5 : Explain Primary Key and Foreign Key."
   ]
  },
  {
   "cell_type": "markdown",
   "id": "534a36b3-93c2-4e2b-8ee2-b9cef9887a9d",
   "metadata": {},
   "source": [
    "  - These are the two important conceot of Relational databases, With the help of primary key and foreign key we are able to establish realtionship between tables\n",
    "  \n",
    "### Primary Key:\n",
    "   - A Primary Key is a unique identifier for each record (row) in a table. It ensures that each row in the table can be uniquely identified.\n",
    "   - There can be only one primary key per table, and its values cannot be NULL.\n",
    "   \n",
    "### Foreign Key:\n",
    "   - A Foreign Key is a column or a set of columns in a table that refers to the Primary Key of another table.\n",
    "   - It establishes a relationship between two tables, allowing data in one table to reference data in another table.\n",
    "   - The values in the foreign key column must match values in the primary key column of the related table or be NULL."
   ]
  },
  {
   "cell_type": "markdown",
   "id": "e32b03e4-0b82-4d8f-8623-9a756ff1b8e0",
   "metadata": {},
   "source": [
    "## Problem_6: Write a python code to connect MySQL to python. Explain the cursor() and execute() method."
   ]
  },
  {
   "cell_type": "markdown",
   "id": "53d9878a-8408-4021-9c95-beb50ffa1149",
   "metadata": {},
   "source": [
    "### To connect python with MySQL we need to install MySQL driver, such as \"mysql-connector-python,\" which allows Python to communicate with the MySQL database.\n",
    "  - pip install mysql-connector-python"
   ]
  },
  {
   "cell_type": "code",
   "execution_count": null,
   "id": "bd188eb7-c0c2-45a0-b511-a45d887deedd",
   "metadata": {},
   "outputs": [],
   "source": [
    "import mysql.connector\n",
    "\n",
    "# Replace these values with your MySQL server credentials\n",
    "hostname = \"your_host\"\n",
    "username = \"your_username\"\n",
    "password = \"your_password\"\n",
    "database = \"your_database\"\n",
    "\n",
    "try:\n",
    "    # Establish the connection to the MySQL server\n",
    "    connection=mysql.connector.connect(\n",
    "        host=hostname,\n",
    "        user=username,\n",
    "        password=password,\n",
    "        database=database\n",
    "    )\n",
    "    \n",
    "    # Create a cursor object to interact with the database.\n",
    "    cursor= connection.cursor()\n",
    "    \n",
    "    # Execute the simple sql query\n",
    "    query = \"SELECT * FROM Employee;\"\n",
    "    cursor.execute(query)\n",
    "\n",
    "    # Fetch and print the result\n",
    "    row=cursor.fetchall()\n",
    "    for row in rows:\n",
    "        print(row)\n",
    "    \n",
    "    # Close the Cursor and Connection\n",
    "    cursor.close()\n",
    "    connection.close()\n",
    "    \n",
    "except mysql.connector.Error as err:\n",
    "    print(\"Error:\", err)"
   ]
  },
  {
   "cell_type": "markdown",
   "id": "5663e4d3-ccf6-4df6-9d38-2452da12e8e0",
   "metadata": {},
   "source": [
    "### cursor(): \n",
    "  - The cursor() method is used to create a cursor object, which is used to interact with the database.\n",
    "  - The cursor allows you to execute SQL queries, fetch query results, and perform other operations.\n",
    "\n",
    "### execute():\n",
    "  - The execute() method is used to execute SQL queries on the database through the cursor object.\n",
    "  - It takes an SQL query string as an argument and sends it to the database for execution.\n",
    "  - After executing the query, the cursor holds the results, and you can fetch the data using methods like \"fetchall()\", \"fetchone()\", or \"fetchmany()\"."
   ]
  },
  {
   "cell_type": "markdown",
   "id": "bced9970-0237-492f-80cb-82c5ba7bae5c",
   "metadata": {},
   "source": [
    "## Problem_7: Give the order of execution of SQL clauses in an SQL query."
   ]
  },
  {
   "cell_type": "markdown",
   "id": "7d6d8ff3-ef82-4cf7-8122-be0ebba08761",
   "metadata": {},
   "source": [
    "### The order of execution of sql is as follows:\n",
    "  - FROM: The FROM clause specifies the table or tables from which the data will be retrieved. It defines the data source for the query.\n",
    "  - WHERE: The WHERE clause filters the data based on specified conditions.\n",
    "  - GROUP BY: The GROUP BY clause is used to group rows that share a common value into summary rows.\n",
    "  - HAVING: The HAVING clause is used in conjunction with GROUP BY to filter the grouped data based on specified conditions. It acts as a filter for the grouped data.\n",
    "  - SELECT: The SELECT clause specifies the columns to be included in the query result. It retrieves the desired data from the database.\n",
    "  - ORDER BY: The ORDER BY clause is used to sort the query results in ascending or descending order based on specified columns or expressions."
   ]
  }
 ],
 "metadata": {
  "kernelspec": {
   "display_name": "Python 3 (ipykernel)",
   "language": "python",
   "name": "python3"
  },
  "language_info": {
   "codemirror_mode": {
    "name": "ipython",
    "version": 3
   },
   "file_extension": ".py",
   "mimetype": "text/x-python",
   "name": "python",
   "nbconvert_exporter": "python",
   "pygments_lexer": "ipython3",
   "version": "3.10.8"
  }
 },
 "nbformat": 4,
 "nbformat_minor": 5
}
