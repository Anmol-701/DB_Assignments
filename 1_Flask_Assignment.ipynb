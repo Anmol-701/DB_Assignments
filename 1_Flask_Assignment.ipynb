{
 "cells": [
  {
   "cell_type": "markdown",
   "id": "75e91eae-e153-4880-a408-a418cbdbd023",
   "metadata": {},
   "source": [
    "## Problem_1: What is Flask Framework? What are the advantages of Flask Framework?"
   ]
  },
  {
   "cell_type": "markdown",
   "id": "257f7c9f-36bc-446a-951a-13f82387f468",
   "metadata": {},
   "source": [
    "  - Flask is a lightweight and popular web framework for building web applications using the Python programming language.\n",
    "  - It is designed to be simple and flexible, allowing developers to quickly create web applications with minimal boilerplate code.\n",
    "  \n",
    "### Advantages:\n",
    "  - Minimalistic: Flask provides a minimal set of tools and libraries, allowing developers to choose the components they need for their specific project.\n",
    "  - Easy to Learn and Use: Flask's simplicity makes it an excellent choice for beginners. The framework's documentation is clear and comprehensive, making it easy to get started and build applications rapidly.\n",
    "  - Flexible: Flask allows you to choose the libraries and tools you want to use for different parts of your application, giving you more control over the technology stack."
   ]
  },
  {
   "cell_type": "markdown",
   "id": "6d70db54-48d9-4c5a-a0a5-19fc6d30bb41",
   "metadata": {},
   "source": [
    "## Problem_2: Create a simple Flask application to display ‘Hello World!!’. "
   ]
  },
  {
   "cell_type": "code",
   "execution_count": 2,
   "id": "10c59cd2-3d42-488a-afe5-5cde33cca4c5",
   "metadata": {},
   "outputs": [
    {
     "name": "stdout",
     "output_type": "stream",
     "text": [
      "Collecting flask\n",
      "  Downloading Flask-2.3.2-py3-none-any.whl (96 kB)\n",
      "\u001b[2K     \u001b[90m━━━━━━━━━━━━━━━━━━━━━━━━━━━━━━━━━━━━━━━━\u001b[0m \u001b[32m96.9/96.9 kB\u001b[0m \u001b[31m4.1 MB/s\u001b[0m eta \u001b[36m0:00:00\u001b[0m\n",
      "\u001b[?25hRequirement already satisfied: click>=8.1.3 in /opt/conda/lib/python3.10/site-packages (from flask) (8.1.3)\n",
      "Collecting Werkzeug>=2.3.3\n",
      "  Downloading Werkzeug-2.3.6-py3-none-any.whl (242 kB)\n",
      "\u001b[2K     \u001b[90m━━━━━━━━━━━━━━━━━━━━━━━━━━━━━━━━━━━━━━\u001b[0m \u001b[32m242.5/242.5 kB\u001b[0m \u001b[31m27.2 MB/s\u001b[0m eta \u001b[36m0:00:00\u001b[0m\n",
      "\u001b[?25hCollecting itsdangerous>=2.1.2\n",
      "  Downloading itsdangerous-2.1.2-py3-none-any.whl (15 kB)\n",
      "Collecting blinker>=1.6.2\n",
      "  Downloading blinker-1.6.2-py3-none-any.whl (13 kB)\n",
      "Requirement already satisfied: Jinja2>=3.1.2 in /opt/conda/lib/python3.10/site-packages (from flask) (3.1.2)\n",
      "Requirement already satisfied: MarkupSafe>=2.0 in /opt/conda/lib/python3.10/site-packages (from Jinja2>=3.1.2->flask) (2.1.1)\n",
      "Installing collected packages: Werkzeug, itsdangerous, blinker, flask\n",
      "  Attempting uninstall: blinker\n",
      "    Found existing installation: blinker 1.5\n",
      "    Uninstalling blinker-1.5:\n",
      "      Successfully uninstalled blinker-1.5\n",
      "Successfully installed Werkzeug-2.3.6 blinker-1.6.2 flask-2.3.2 itsdangerous-2.1.2\n",
      "Note: you may need to restart the kernel to use updated packages.\n"
     ]
    }
   ],
   "source": [
    "pip install flask"
   ]
  },
  {
   "cell_type": "code",
   "execution_count": 2,
   "id": "35c03fd5-417f-44ab-85a8-8535c9d86a3e",
   "metadata": {},
   "outputs": [
    {
     "name": "stdout",
     "output_type": "stream",
     "text": [
      " * Serving Flask app '__main__'\n",
      " * Debug mode: off\n"
     ]
    },
    {
     "name": "stderr",
     "output_type": "stream",
     "text": [
      "WARNING: This is a development server. Do not use it in a production deployment. Use a production WSGI server instead.\n",
      " * Running on all addresses (0.0.0.0)\n",
      " * Running on http://127.0.0.1:5000\n",
      " * Running on http://172.18.0.10:5000\n",
      "Press CTRL+C to quit\n",
      "172.18.0.45 - - [10/Aug/2023 17:13:20] \"GET / HTTP/1.1\" 200 -\n",
      "172.18.0.45 - - [10/Aug/2023 17:13:20] \"GET /favicon.ico HTTP/1.1\" 404 -\n"
     ]
    }
   ],
   "source": [
    "from flask import Flask\n",
    "app=Flask(__name__)\n",
    "\n",
    "@app.route(\"/\")\n",
    "def hello_world():\n",
    "    return \"<h1>Hello World :)</h1>\"\n",
    "\n",
    "if __name__==\"__main__\":\n",
    "    app.run(host=\"0.0.0.0\")"
   ]
  },
  {
   "cell_type": "markdown",
   "id": "aa4d3588-03ea-49b1-bba2-8b6646fda82c",
   "metadata": {},
   "source": [
    "## Problem_3:What is App routing in Flask? Why do we use app routes?"
   ]
  },
  {
   "cell_type": "markdown",
   "id": "cfdf6f80-b958-4194-ad7a-fa40b9a95c78",
   "metadata": {},
   "source": [
    "  - In the context of the Flask web framework, app routing refers to the process of defining URL routes for your web application.\n",
    "  - A route maps a URL to a specific function that should be executed when that URL is accessed by a user's browser.\n",
    "  - App routing allows you to define how your application responds to different URLs, enabling you to build a functional and organized web application.\n",
    "  \n",
    "### Why do we use app routes:\n",
    "  - URL Mapping: They provide a way to map URLs to specific functions in your application, allowing users to access different parts of your application through unique URLs.\n",
    "  - Logical Organization: Routes help you logically organize your application's functionality. Each view function can handle a specific aspect of your application, making the codebase more modular and maintainable.\n",
    "  - User Interaction: By responding to different routes, you can create user-friendly interfaces that guide users to the appropriate content or functionality.\n",
    "  - API Endpoints: If your application provides an API, routes allow you to define endpoints for various API actions."
   ]
  },
  {
   "cell_type": "markdown",
   "id": "3314a335-e0a5-4efe-89d4-f71d9047bc31",
   "metadata": {},
   "source": [
    "## Problem_4: Create a “/welcome” route to display the welcome message “Welcome to ABC Corporation” and a “/” route to show the following details:\n",
    "  - Company Name: ABC Corporation\n",
    "  - Location: India\n",
    "  - Contact Detail: 999-999-9999"
   ]
  },
  {
   "cell_type": "code",
   "execution_count": 25,
   "id": "3440c477-13c3-4d98-a29b-7342657993a8",
   "metadata": {},
   "outputs": [
    {
     "name": "stdout",
     "output_type": "stream",
     "text": [
      " * Serving Flask app '__main__'\n",
      " * Debug mode: off\n"
     ]
    },
    {
     "name": "stderr",
     "output_type": "stream",
     "text": [
      "WARNING: This is a development server. Do not use it in a production deployment. Use a production WSGI server instead.\n",
      " * Running on all addresses (0.0.0.0)\n",
      " * Running on http://127.0.0.1:5000\n",
      " * Running on http://172.18.0.11:5000\n",
      "Press CTRL+C to quit\n",
      "172.18.0.45 - - [11/Aug/2023 15:49:39] \"GET / HTTP/1.1\" 200 -\n"
     ]
    }
   ],
   "source": [
    "from flask import Flask\n",
    "app=Flask(__name__)\n",
    "\n",
    "@app.route('/welcome')\n",
    "def welcome():\n",
    "    return \"<h1>Welcome to ABC Corporation</h1>\"\n",
    "\n",
    "@app.route('/')    \n",
    "def show_details():\n",
    "    return (f\"Contact Name:ABC Corporation <br> Location:India <br> Contact Details:999-999-9999\")\n",
    "\n",
    "if __name__== \"__main__\":\n",
    "    app.run(host=\"0.0.0.0\")"
   ]
  },
  {
   "cell_type": "markdown",
   "id": "e373b826-41d1-4f60-834d-3f0bdae40d41",
   "metadata": {},
   "source": [
    "## Problem_5: What function is used in Flask for URL Building? Write a Python code to demonstrate the working of the url_for() function."
   ]
  },
  {
   "cell_type": "markdown",
   "id": "3fec2b15-5221-4285-9ce9-8735ab4a788e",
   "metadata": {},
   "source": [
    "  - In Flask, the url_for() function is used for URL building.\n",
    "  - It generates a URL for a given view function, taking into account the routing rules defined in your application. \n",
    "  - This is particularly useful because it abstracts the actual URLs from your code, making it easier to maintain your application as you make changes to your routes."
   ]
  },
  {
   "cell_type": "code",
   "execution_count": 27,
   "id": "012f7d45-4d8d-4b87-aaa1-01ae5d5e8f85",
   "metadata": {},
   "outputs": [
    {
     "name": "stdout",
     "output_type": "stream",
     "text": [
      "Home URL:/\n",
      "About URL:/about\n"
     ]
    }
   ],
   "source": [
    "### Working of url_for()\n",
    "from flask import Flask,url_for\n",
    "app=Flask(__name__)\n",
    "\n",
    "@app.route('/')\n",
    "def home():\n",
    "    return \"Welcome to Home Page\"\n",
    "\n",
    "@app.route('/about')\n",
    "def about():\n",
    "    return \"This is about page\"\n",
    "\n",
    "if __name__==\"__main__\":\n",
    "    with app.test_request_context():\n",
    "        # Using url_for() to generate URLs for different view functions\n",
    "        home_url=url_for('home')\n",
    "        about_url=url_for('about')\n",
    "        \n",
    "        print(f\"Home URL:{home_url}\")\n",
    "        print(f\"About URL:{about_url}\")"
   ]
  },
  {
   "cell_type": "code",
   "execution_count": null,
   "id": "e84d8296-5f06-4e69-b991-960bc323e31a",
   "metadata": {},
   "outputs": [],
   "source": []
  }
 ],
 "metadata": {
  "kernelspec": {
   "display_name": "Python 3 (ipykernel)",
   "language": "python",
   "name": "python3"
  },
  "language_info": {
   "codemirror_mode": {
    "name": "ipython",
    "version": 3
   },
   "file_extension": ".py",
   "mimetype": "text/x-python",
   "name": "python",
   "nbconvert_exporter": "python",
   "pygments_lexer": "ipython3",
   "version": "3.10.8"
  }
 },
 "nbformat": 4,
 "nbformat_minor": 5
}
