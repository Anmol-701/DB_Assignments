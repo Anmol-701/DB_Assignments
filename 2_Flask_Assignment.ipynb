{
 "cells": [
  {
   "cell_type": "markdown",
   "id": "f221c03b-88b4-4ab6-b0c6-cec558f30d88",
   "metadata": {},
   "source": [
    "## Problem_1: Explain GET and POST methods.\n",
    "### GET:\n",
    "  - The GET method is used to request data from a server.\n",
    "  - When a client sends a GET request, the server responds by sending back the requested data as part of the response body. This data is usually appended to the URL as query parameters.\n",
    "  - GET requests are commonly used for actions that retrieve data, such as fetching a webpage, retrieving information from a database, or fetching images and other resources.\n",
    "\n",
    "### POST:\n",
    "  - The POST method is used to submit data to be processed by the server.\n",
    "  - When a client sends a POST request, the data is sent in the request body, rather than being appended to the URL.\n",
    "  - POST requests are commonly used for actions that create, update, or delete data on the server, such as submitting a form, adding a new record to a database, or making a purchase."
   ]
  },
  {
   "cell_type": "markdown",
   "id": "0b94aab9-0fc4-4921-95f5-dbf38614eb20",
   "metadata": {},
   "source": [
    "## Problem_2: Why is request used in Flask?"
   ]
  },
  {
   "cell_type": "markdown",
   "id": "5f26510c-32b9-44d7-8746-ac3984dcb87f",
   "metadata": {},
   "source": [
    "  - In the context of Flask, \"request\" refers to an object that represents the incoming HTTP request made by a client (usually a web browser) to the Flask server.\n",
    "  - This object encapsulates all the information and data associated with the incoming request, allowing you to access various aspects of the request, such as headers, data, query parameters, and more.\n",
    "  - The \"request\" object allows you to access data sent by the client in the request, such as form data, JSON payloads, and query parameters.\n",
    "  - You can use the \"request\" object to determine the HTTP method used by the client (GET, POST, PUT, DELETE, etc.), which helps you differentiate between different types of requests and handle them appropriately."
   ]
  },
  {
   "cell_type": "markdown",
   "id": "11f8cee4-2f4b-4c75-bf4b-86743e72e071",
   "metadata": {},
   "source": [
    "## Problem_3: Why is redirect() used in Flask?"
   ]
  },
  {
   "cell_type": "markdown",
   "id": "7a8e4046-9c71-467e-813d-347870baf99d",
   "metadata": {},
   "source": [
    "  - In Flask, the redirect() function is used to perform a redirection from one URL to another.\n",
    "  - Redirects are commonly used in web applications for various purposes, such as after form submissions, successful login/logout actions, and to guide users to a different part of the application.\n",
    "  -  If you change the structure of your application's URLs, you can use redirects to ensure that old URLs are properly redirected to their new equivalents, helping with search engine optimization (SEO) and maintaining a smooth user experience."
   ]
  },
  {
   "cell_type": "markdown",
   "id": "198a0b27-a9fd-41a6-bab5-3e9c7912386c",
   "metadata": {},
   "source": [
    "## Problem:4: What are templates in Flask? Why is the render_template() function used?"
   ]
  },
  {
   "cell_type": "markdown",
   "id": "34a19bc6-0f1e-453d-ac87-6c8d16c93839",
   "metadata": {},
   "source": [
    "  - In Flask, templates are a way to separate the presentation logic from the actual application logic.\n",
    "  - They allow you to create dynamic HTML pages by embedding placeholders (variables) within the HTML code.\n",
    "  - Templates make it easier to generate consistent and well-structured output for your web application, and they enable you to reuse common layout elements across different pages.\n",
    "  \n",
    "### render_template():\n",
    "  - The render_template() function in Flask is used to render and generate HTML pages from template files.\n",
    "  - This function takes a template file as an argument, processes it, substitutes placeholders with actual values, and returns the resulting HTML content to be sent as a response to the client's request."
   ]
  },
  {
   "cell_type": "markdown",
   "id": "de7e5535-d1f9-413c-9d5f-21d64bb74bba",
   "metadata": {},
   "source": [
    "## Problem_5: Create a simple API. Use Postman to test it."
   ]
  },
  {
   "cell_type": "code",
   "execution_count": 3,
   "id": "5c104f66-550d-4938-a4ec-7b30f4a87d02",
   "metadata": {},
   "outputs": [
    {
     "name": "stdout",
     "output_type": "stream",
     "text": [
      "Collecting flask\n",
      "  Downloading Flask-2.3.2-py3-none-any.whl (96 kB)\n",
      "\u001b[2K     \u001b[90m━━━━━━━━━━━━━━━━━━━━━━━━━━━━━━━━━━━━━━━━\u001b[0m \u001b[32m96.9/96.9 kB\u001b[0m \u001b[31m3.9 MB/s\u001b[0m eta \u001b[36m0:00:00\u001b[0m\n",
      "\u001b[?25hRequirement already satisfied: click>=8.1.3 in /opt/conda/lib/python3.10/site-packages (from flask) (8.1.3)\n",
      "Collecting itsdangerous>=2.1.2\n",
      "  Downloading itsdangerous-2.1.2-py3-none-any.whl (15 kB)\n",
      "Collecting blinker>=1.6.2\n",
      "  Downloading blinker-1.6.2-py3-none-any.whl (13 kB)\n",
      "Collecting Werkzeug>=2.3.3\n",
      "  Downloading werkzeug-2.3.7-py3-none-any.whl (242 kB)\n",
      "\u001b[2K     \u001b[90m━━━━━━━━━━━━━━━━━━━━━━━━━━━━━━━━━━━━━━\u001b[0m \u001b[32m242.2/242.2 kB\u001b[0m \u001b[31m18.8 MB/s\u001b[0m eta \u001b[36m0:00:00\u001b[0m\n",
      "\u001b[?25hRequirement already satisfied: Jinja2>=3.1.2 in /opt/conda/lib/python3.10/site-packages (from flask) (3.1.2)\n",
      "Requirement already satisfied: MarkupSafe>=2.0 in /opt/conda/lib/python3.10/site-packages (from Jinja2>=3.1.2->flask) (2.1.1)\n",
      "Installing collected packages: Werkzeug, itsdangerous, blinker, flask\n",
      "  Attempting uninstall: blinker\n",
      "    Found existing installation: blinker 1.5\n",
      "    Uninstalling blinker-1.5:\n",
      "      Successfully uninstalled blinker-1.5\n",
      "Successfully installed Werkzeug-2.3.7 blinker-1.6.2 flask-2.3.2 itsdangerous-2.1.2\n",
      "Note: you may need to restart the kernel to use updated packages.\n"
     ]
    }
   ],
   "source": [
    "pip install flask\n"
   ]
  },
  {
   "cell_type": "code",
   "execution_count": null,
   "id": "17100f0a-8d09-4aa5-8219-8ebf0582c4e9",
   "metadata": {},
   "outputs": [
    {
     "name": "stdout",
     "output_type": "stream",
     "text": [
      " * Serving Flask app '__main__'\n",
      " * Debug mode: off\n"
     ]
    },
    {
     "name": "stderr",
     "output_type": "stream",
     "text": [
      "WARNING: This is a development server. Do not use it in a production deployment. Use a production WSGI server instead.\n",
      " * Running on all addresses (0.0.0.0)\n",
      " * Running on http://127.0.0.1:5000\n",
      " * Running on http://172.18.0.25:5000\n",
      "Press CTRL+C to quit\n",
      "172.18.0.45 - - [17/Aug/2023 17:38:59] \"GET /tasks HTTP/1.1\" 200 -\n",
      "172.18.0.45 - - [17/Aug/2023 17:40:03] \"POST /tasks HTTP/1.1\" 400 -\n",
      "172.18.0.45 - - [17/Aug/2023 17:40:29] \"POST /tasks HTTP/1.1\" 201 -\n",
      "172.18.0.45 - - [17/Aug/2023 17:41:13] \"POST /tasks HTTP/1.1\" 201 -\n",
      "172.18.0.45 - - [17/Aug/2023 17:41:23] \"GET /tasks HTTP/1.1\" 200 -\n",
      "172.18.0.45 - - [17/Aug/2023 17:41:57] \"POST /tasks HTTP/1.1\" 201 -\n",
      "172.18.0.45 - - [17/Aug/2023 17:42:05] \"GET /tasks HTTP/1.1\" 200 -\n"
     ]
    }
   ],
   "source": [
    "from flask import Flask, request, jsonify\n",
    "\n",
    "app = Flask(__name__)\n",
    "\n",
    "tasks = []\n",
    "\n",
    "@app.route('/tasks', methods=['GET'])\n",
    "def get_tasks():\n",
    "    return jsonify(tasks)\n",
    "\n",
    "@app.route('/tasks', methods=['POST'])\n",
    "def create_task():\n",
    "    data = request.get_json()\n",
    "    if 'title' in data:\n",
    "        new_task = {'title': data['title']}\n",
    "        tasks.append(new_task)\n",
    "        return jsonify(new_task), 201\n",
    "    else:\n",
    "        return jsonify({'error': 'Title is required'}), 400\n",
    "\n",
    "if __name__ == '__main__':\n",
    "    app.run(host=\"0.0.0.0\")"
   ]
  },
  {
   "cell_type": "code",
   "execution_count": null,
   "id": "8f7ed73c-5324-4711-8aac-4acfaabcf3c5",
   "metadata": {},
   "outputs": [],
   "source": []
  }
 ],
 "metadata": {
  "kernelspec": {
   "display_name": "Python 3 (ipykernel)",
   "language": "python",
   "name": "python3"
  },
  "language_info": {
   "codemirror_mode": {
    "name": "ipython",
    "version": 3
   },
   "file_extension": ".py",
   "mimetype": "text/x-python",
   "name": "python",
   "nbconvert_exporter": "python",
   "pygments_lexer": "ipython3",
   "version": "3.10.8"
  }
 },
 "nbformat": 4,
 "nbformat_minor": 5
}
